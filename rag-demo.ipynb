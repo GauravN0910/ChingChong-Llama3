{
 "cells": [
  {
   "cell_type": "code",
   "execution_count": 208,
   "metadata": {},
   "outputs": [],
   "source": [
    "import chainlit as cl\n",
    "import os\n",
    "from llama_index.core import Settings, VectorStoreIndex, StorageContext, SimpleDirectoryReader, Document\n",
    "from llama_index.llms.together import TogetherLLM\n",
    "from llama_index.embeddings.together import TogetherEmbedding\n",
    "from llama_index.vector_stores.milvus import MilvusVectorStore\n",
    "from llama_index.readers.web import SimpleWebPageReader\n",
    "from llama_index.core import PromptTemplate\n",
    "\n",
    "llm = TogetherLLM(\n",
    "    model=\"meta-llama/Meta-Llama-3-70B-Instruct-Turbo\", api_key=\"dae9b33beef8cc57bc9475d53519e9e70037e6820b8c2d54b0b2f349e11101b0\"\n",
    ")\n",
    "\n",
    "embed_model = TogetherEmbedding(\n",
    "    model_name = \"togethercomputer/m2-bert-80M-8k-retrieval\", api_key=\"dae9b33beef8cc57bc9475d53519e9e70037e6820b8c2d54b0b2f349e11101b0\"\n",
    ")"
   ]
  },
  {
   "cell_type": "code",
   "execution_count": 209,
   "metadata": {},
   "outputs": [
    {
     "name": "stdout",
     "output_type": "stream",
     "text": [
      "2024-07-20 21:27:13 - Created new connection using: 64fbdc8740924a8c87af6eece48211a5\n"
     ]
    },
    {
     "name": "stdout",
     "output_type": "stream",
     "text": [
      "2024-07-20 21:27:13 - Successfully created collection: llamacollection\n",
      "2024-07-20 21:27:14 - Successfully created an index on collection: llamacollection\n"
     ]
    }
   ],
   "source": [
    "documents = SimpleDirectoryReader(input_dir=\"./data\", recursive=True).load_data()\n",
    "vector_store = MilvusVectorStore(uri=\"./milvus_demo_2.db\", dim=768, overwrite=True)"
   ]
  },
  {
   "cell_type": "code",
   "execution_count": 210,
   "metadata": {},
   "outputs": [],
   "source": [
    "# local_model_endpoint = \"http://localhost:8000\"\n",
    "storage_context = StorageContext.from_defaults(vector_store=vector_store)\n",
    "# index = VectorStoreIndex.from_documents(embed_model=embed_model,documents=documents,storage_context=storage_context)"
   ]
  },
  {
   "cell_type": "code",
   "execution_count": 211,
   "metadata": {},
   "outputs": [],
   "source": [
    "Settings.embed_model = embed_model\n",
    "Settings.llm = llm"
   ]
  },
  {
   "cell_type": "code",
   "execution_count": 212,
   "metadata": {},
   "outputs": [
    {
     "name": "stdout",
     "output_type": "stream",
     "text": [
      "2024-07-20 21:27:19 - HTTP Request: POST https://api.together.xyz/v1/chat/completions \"HTTP/1.1 200 OK\"\n"
     ]
    }
   ],
   "source": [
    "\n",
    "index = VectorStoreIndex.from_documents(documents=documents)\n",
    "query_engine = index.as_query_engine()\n",
    "result = query_engine.query(\"Can you give me some names of common fever medications?\")"
   ]
  },
  {
   "cell_type": "code",
   "execution_count": 213,
   "metadata": {},
   "outputs": [
    {
     "name": "stdout",
     "output_type": "stream",
     "text": [
      "Acetaminophen, ibuprofen, and aspirin are some common fever medications.\n"
     ]
    }
   ],
   "source": [
    "print(result)"
   ]
  },
  {
   "cell_type": "code",
   "execution_count": 222,
   "metadata": {},
   "outputs": [],
   "source": [
    "promptTemplate = (\n",
    "    \"We have provided context information below. \\n\"\n",
    "    \"---------------------\\n\"\n",
    "    \"{context_str}\"\n",
    "    \"\\n---------------------\\n\"\n",
    "    \"Given this information, please answer the question: {query_str}\\n\"\n",
    "    \"If the question is out of the scope of the given information, answer to the best of your ability\"\n",
    ")"
   ]
  },
  {
   "cell_type": "code",
   "execution_count": 223,
   "metadata": {},
   "outputs": [],
   "source": [
    "qa_template = PromptTemplate(promptTemplate)"
   ]
  },
  {
   "cell_type": "code",
   "execution_count": 224,
   "metadata": {},
   "outputs": [
    {
     "name": "stdout",
     "output_type": "stream",
     "text": [
      "2024-07-20 21:29:55 - HTTP Request: POST https://api.together.xyz/v1/chat/completions \"HTTP/1.1 200 OK\"\n",
      "Based on the provided information, the answer to the question \"What medications should I take for a urinary tract infection?\" is that acetaminophen or ibuprofen can help relieve the pain associated with urinary tract infections. However, it's important to note that these medications do not cure infections, and you should see a doctor for proper treatment.\n"
     ]
    }
   ],
   "source": [
    "question = \"What medications should I take for a urinary tract information?\"\n",
    "prompt = qa_template.format(context_str = documents, query_str = question)\n",
    "response = llm.complete(prompt)\n",
    "print(response.text)"
   ]
  },
  {
   "cell_type": "code",
   "execution_count": 226,
   "metadata": {},
   "outputs": [
    {
     "name": "stdout",
     "output_type": "stream",
     "text": [
      "2024-07-20 22:22:27 - HTTP Request: POST https://api.together.xyz/v1/chat/completions \"HTTP/1.1 200 OK\"\n",
      "The provided context information appears to be about two documents containing text about aspirin and tylenol, respectively. There is no mention of Donald Trump in the provided information.\n",
      "\n",
      "To the best of my ability, I can tell you that Donald Trump is the 45th President of the United States, serving from 2017 to 2021. However, this information is not related to the provided context about aspirin and tylenol.\n"
     ]
    }
   ],
   "source": [
    "question = \"Who is Donald Trump?\"\n",
    "prompt = qa_template.format(context_str = documents, query_str = question)\n",
    "response = llm.complete(prompt)\n",
    "print(response.text)"
   ]
  },
  {
   "cell_type": "code",
   "execution_count": null,
   "metadata": {},
   "outputs": [],
   "source": []
  },
  {
   "cell_type": "code",
   "execution_count": null,
   "metadata": {},
   "outputs": [],
   "source": []
  },
  {
   "cell_type": "code",
   "execution_count": null,
   "metadata": {},
   "outputs": [],
   "source": []
  }
 ],
 "metadata": {
  "kernelspec": {
   "display_name": ".venv",
   "language": "python",
   "name": "python3"
  },
  "language_info": {
   "codemirror_mode": {
    "name": "ipython",
    "version": 3
   },
   "file_extension": ".py",
   "mimetype": "text/x-python",
   "name": "python",
   "nbconvert_exporter": "python",
   "pygments_lexer": "ipython3",
   "version": "3.10.12"
  }
 },
 "nbformat": 4,
 "nbformat_minor": 2
}
