{
 "cells": [
  {
   "cell_type": "code",
   "execution_count": 4,
   "metadata": {},
   "outputs": [],
   "source": [
    "import chainlit as cl\n",
    "import os\n",
    "from llama_index.core import Settings, VectorStoreIndex, StorageContext, SimpleDirectoryReader, Document\n",
    "from llama_index.llms.together import TogetherLLM\n",
    "from llama_index.embeddings.together import TogetherEmbedding\n",
    "from llama_index.vector_stores.milvus import MilvusVectorStore\n",
    "from llama_index.readers.web import SimpleWebPageReader\n",
    "from llama_index.core import PromptTemplate\n",
    "\n",
    "llm = TogetherLLM(\n",
    "    model=\"meta-llama/Meta-Llama-3-70B-Instruct-Turbo\", api_key=\"dae9b33beef8cc57bc9475d53519e9e70037e6820b8c2d54b0b2f349e11101b0\"\n",
    ")\n",
    "\n",
    "embed_model = TogetherEmbedding(\n",
    "    model_name = \"togethercomputer/m2-bert-80M-8k-retrieval\", api_key=\"dae9b33beef8cc57bc9475d53519e9e70037e6820b8c2d54b0b2f349e11101b0\"\n",
    ")"
   ]
  },
  {
   "cell_type": "code",
   "execution_count": 8,
   "metadata": {},
   "outputs": [
    {
     "name": "stdout",
     "output_type": "stream",
     "text": [
      "2024-07-21 05:43:41 - Created new connection using: 3e6ac38bdc5541b980f766f7fff8853a\n",
      "2024-07-21 05:43:41 - Successfully created collection: llamacollection\n",
      "2024-07-21 05:43:41 - Successfully created an index on collection: llamacollection\n"
     ]
    }
   ],
   "source": [
    "documents = SimpleDirectoryReader(input_dir=\"./data\", recursive=True).load_data()\n",
    "vector_store = MilvusVectorStore(uri=\"./milvus_demo.db\", dim=768, overwrite=True)"
   ]
  },
  {
   "cell_type": "code",
   "execution_count": 9,
   "metadata": {},
   "outputs": [],
   "source": [
    "# local_model_endpoint = \"http://localhost:8000\"\n",
    "storage_context = StorageContext.from_defaults(vector_store=vector_store)\n",
    "# index = VectorStoreIndex.from_documents(embed_model=embed_model,documents=documents,storage_context=storage_context)"
   ]
  },
  {
   "cell_type": "code",
   "execution_count": 10,
   "metadata": {},
   "outputs": [],
   "source": [
    "Settings.embed_model = embed_model\n",
    "Settings.llm = llm"
   ]
  },
  {
   "cell_type": "code",
   "execution_count": 11,
   "metadata": {},
   "outputs": [
    {
     "name": "stdout",
     "output_type": "stream",
     "text": [
      "2024-07-21 05:44:00 - HTTP Request: POST https://api.together.xyz/v1/chat/completions \"HTTP/1.1 200 OK\"\n"
     ]
    }
   ],
   "source": [
    "\n",
    "index = VectorStoreIndex.from_documents(documents=documents)\n",
    "query_engine = index.as_query_engine()\n",
    "result = query_engine.query(\"Can you give me some names of common fever medications?\")"
   ]
  },
  {
   "cell_type": "code",
   "execution_count": 12,
   "metadata": {},
   "outputs": [
    {
     "name": "stdout",
     "output_type": "stream",
     "text": [
      "Acetaminophen, ibuprofen, and aspirin are some common fever medications.\n"
     ]
    }
   ],
   "source": [
    "print(result)"
   ]
  },
  {
   "cell_type": "code",
   "execution_count": 13,
   "metadata": {},
   "outputs": [],
   "source": [
    "promptTemplate = (\n",
    "    \"We have provided context information below. \\n\"\n",
    "    \"---------------------\\n\"\n",
    "    \"{context_str}\"\n",
    "    \"\\n---------------------\\n\"\n",
    "    \"Given this information, please answer the question: {query_str}\\n\"\n",
    "    \"If the question is out of the scope of the given information, answer to the best of your ability\"\n",
    ")"
   ]
  },
  {
   "cell_type": "code",
   "execution_count": 14,
   "metadata": {},
   "outputs": [],
   "source": [
    "qa_template = PromptTemplate(promptTemplate)"
   ]
  },
  {
   "cell_type": "code",
   "execution_count": 15,
   "metadata": {},
   "outputs": [
    {
     "name": "stdout",
     "output_type": "stream",
     "text": [
      "2024-07-21 05:44:13 - HTTP Request: POST https://api.together.xyz/v1/chat/completions \"HTTP/1.1 200 OK\"\n",
      "Based on the provided information, the answer to the question \"What medications should I take for a urinary tract infection?\" is that acetaminophen or ibuprofen can help relieve the pain associated with urinary tract infections. However, it's important to note that these medications do not cure infections, and you should see a doctor for proper treatment.\n"
     ]
    }
   ],
   "source": [
    "question = \"What medications should I take for a urinary tract information?\"\n",
    "prompt = qa_template.format(context_str = documents, query_str = question)\n",
    "response = llm.complete(prompt)\n",
    "print(response.text)"
   ]
  },
  {
   "cell_type": "code",
   "execution_count": 16,
   "metadata": {},
   "outputs": [],
   "source": [
    "from llama_index.core import StorageContext\n",
    "from llama_index.core import load_index_from_storage"
   ]
  },
  {
   "cell_type": "code",
   "execution_count": 19,
   "metadata": {},
   "outputs": [
    {
     "name": "stdout",
     "output_type": "stream",
     "text": [
      "2024-07-21 05:44:56 - Loading all indices.\n"
     ]
    }
   ],
   "source": [
    "index.storage_context.persist(\"medicine_index\")\n",
    "storage_context = StorageContext.from_defaults(persist_dir=\"medicine_index\")\n",
    "new_index = load_index_from_storage(storage_context)"
   ]
  },
  {
   "cell_type": "code",
   "execution_count": null,
   "metadata": {},
   "outputs": [],
   "source": []
  }
 ],
 "metadata": {
  "kernelspec": {
   "display_name": ".venv",
   "language": "python",
   "name": "python3"
  },
  "language_info": {
   "codemirror_mode": {
    "name": "ipython",
    "version": 3
   },
   "file_extension": ".py",
   "mimetype": "text/x-python",
   "name": "python",
   "nbconvert_exporter": "python",
   "pygments_lexer": "ipython3",
   "version": "3.10.12"
  }
 },
 "nbformat": 4,
 "nbformat_minor": 2
}
