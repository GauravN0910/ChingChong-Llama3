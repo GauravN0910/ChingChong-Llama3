{
 "cells": [
  {
   "cell_type": "code",
   "execution_count": 1,
   "metadata": {},
   "outputs": [
    {
     "name": "stderr",
     "output_type": "stream",
     "text": [
      "/mnt/c/Users/gaura/gaurav/ChingChong-Llama3/.venv/lib/python3.10/site-packages/tqdm/auto.py:21: TqdmWarning: IProgress not found. Please update jupyter and ipywidgets. See https://ipywidgets.readthedocs.io/en/stable/user_install.html\n",
      "  from .autonotebook import tqdm as notebook_tqdm\n",
      "None of PyTorch, TensorFlow >= 2.0, or Flax have been found. Models won't be available and only tokenizers, configuration and file/data utilities can be used.\n"
     ]
    }
   ],
   "source": [
    "from llama_index.llms.together import TogetherLLM"
   ]
  },
  {
   "cell_type": "code",
   "execution_count": 6,
   "metadata": {},
   "outputs": [],
   "source": [
    "llm = TogetherLLM(\n",
    "    model=\"meta-llama/Meta-Llama-3-70B-Instruct-Turbo\", api_key=\"dae9b33beef8cc57bc9475d53519e9e70037e6820b8c2d54b0b2f349e11101b0\"\n",
    ")"
   ]
  },
  {
   "cell_type": "code",
   "execution_count": 9,
   "metadata": {},
   "outputs": [
    {
     "data": {
      "text/plain": [
       "CompletionResponse(text='The first black president of the United States is Barack Obama. He was inaugurated as the 44th President of the United States on January 20, 2009, and served two terms in office until January 20, 2017. Obama is the first African American to hold the office of President in the history of the United States.', additional_kwargs={}, raw={'id': '8a5de8c62f747f22-MAA', 'choices': [Choice(finish_reason='eos', index=0, logprobs=None, message=ChatCompletionMessage(content='The first black president of the United States is Barack Obama. He was inaugurated as the 44th President of the United States on January 20, 2009, and served two terms in office until January 20, 2017. Obama is the first African American to hold the office of President in the history of the United States.', role='assistant', function_call=None, tool_calls=None), seed=4641707764930928000)], 'created': 1721425640, 'model': 'meta-llama/Meta-Llama-3-70B-Instruct-Turbo', 'object': 'chat.completion', 'service_tier': None, 'system_fingerprint': None, 'usage': CompletionUsage(completion_tokens=71, prompt_tokens=22, total_tokens=93), 'prompt': []}, logprobs=None, delta=None)"
      ]
     },
     "execution_count": 9,
     "metadata": {},
     "output_type": "execute_result"
    }
   ],
   "source": [
    "response = llm.complete(\"Who is the first black president of the United States?\")\n",
    "response"
   ]
  }
 ],
 "metadata": {
  "kernelspec": {
   "display_name": ".venv",
   "language": "python",
   "name": "python3"
  },
  "language_info": {
   "codemirror_mode": {
    "name": "ipython",
    "version": 3
   },
   "file_extension": ".py",
   "mimetype": "text/x-python",
   "name": "python",
   "nbconvert_exporter": "python",
   "pygments_lexer": "ipython3",
   "version": "3.10.12"
  }
 },
 "nbformat": 4,
 "nbformat_minor": 2
}
